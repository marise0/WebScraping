{
 "cells": [
  {
   "cell_type": "code",
   "execution_count": 1,
   "metadata": {},
   "outputs": [],
   "source": [
    "import requests\n",
    "from bs4 import BeautifulSoup\n",
    "import pandas as pd \n",
    "import re"
   ]
  },
  {
   "cell_type": "code",
   "execution_count": 2,
   "metadata": {},
   "outputs": [],
   "source": [
    "url = \"https://www.mushroomexpert.com/\"\n",
    "response= requests.get(url)\n",
    "soup = BeautifulSoup(response.content, \"html.parser\")\n",
    "table = soup.find(lambda tag: tag.name == 'table' and tag.find('i') and tag.find('i').string == 'Clavulinopsis')"
   ]
  },
  {
   "cell_type": "code",
   "execution_count": 3,
   "metadata": {},
   "outputs": [
    {
     "name": "stdout",
     "output_type": "stream",
     "text": [
      "Number of species is: 4\n"
     ]
    }
   ],
   "source": [
    "species=table.find_all('a')\n",
    "number_of_species = len(species)\n",
    "print(\"Number of species is:\", number_of_species)"
   ]
  },
  {
   "cell_type": "code",
   "execution_count": 4,
   "metadata": {},
   "outputs": [],
   "source": [
    "df=pd.DataFrame(columns=['SpeciesName','Ecology','Odor and Taste'])"
   ]
  },
  {
   "cell_type": "code",
   "execution_count": 11,
   "metadata": {},
   "outputs": [],
   "source": [
    "\n",
    "for specie in species:\n",
    "    result=[]\n",
    "    url = 'https://www.mushroomexpert.com/'+specie['href']\n",
    "    response=requests.get(url)\n",
    "    soup=BeautifulSoup(response.content,'html.parser')\n",
    "    \n",
    "    name= soup.find('font', {'size':'+0'}).text\n",
    "    result.append(name)\n",
    "\n",
    "    wanted_tag = soup.find(lambda tag: tag.name == 'p' and re.search('saprobic|mycorrhizal|parasitic', tag.text, re.IGNORECASE))\n",
    "    ecology=wanted_tag.a.text\n",
    "    result.append(ecology)\n",
    "\n",
    "    wanted_tag= soup.find(lambda tag: tag.name == 'p' and 'Odor and Taste' in tag.text)\n",
    "    odor_taste= wanted_tag.text[16:]\n",
    "    result.append(odor_taste)\n",
    "\n",
    "    df.loc[len(df)]=result\n",
    "\n",
    "df.to_csv('Clavulinopsis(MushroomExpert).csv',index=False)"
   ]
  }
 ],
 "metadata": {
  "kernelspec": {
   "display_name": "Python (my_virtual_env)",
   "language": "python",
   "name": "my_virtual_env"
  },
  "language_info": {
   "codemirror_mode": {
    "name": "ipython",
    "version": 3
   },
   "file_extension": ".py",
   "mimetype": "text/x-python",
   "name": "python",
   "nbconvert_exporter": "python",
   "pygments_lexer": "ipython3",
   "version": "3.10.12"
  }
 },
 "nbformat": 4,
 "nbformat_minor": 2
}
