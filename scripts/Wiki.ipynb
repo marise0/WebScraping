{
 "cells": [
  {
   "cell_type": "code",
   "execution_count": 1,
   "metadata": {},
   "outputs": [],
   "source": [
    "import requests\n",
    "import pandas as pd\n",
    "from bs4 import BeautifulSoup"
   ]
  },
  {
   "cell_type": "code",
   "execution_count": 4,
   "metadata": {},
   "outputs": [
    {
     "name": "stdout",
     "output_type": "stream",
     "text": [
      "<table class=\"infobox\"><tbody><tr><th class=\"infobox-above\" colspan=\"2\" style=\"background-color: #b0c4de; line-height: 1.4em; font-size:1.2em\"><i>Pleurotus pulmonarius</i><div style=\"float:right; margin: 0 3px\"><span typeof=\"mw:File\"><a href=\"/wiki/Template:Mycomorphbox\" title=\"View the Mycomorphbox template that generates the following list\"><img alt=\"View the Mycomorphbox template that generates the following list\" class=\"mw-file-element\" data-file-height=\"62\" data-file-width=\"62\" decoding=\"async\" height=\"14\" src=\"//upload.wikimedia.org/wikipedia/en/thumb/3/35/Information_icon.svg/14px-Information_icon.svg.png\" srcset=\"//upload.wikimedia.org/wikipedia/en/thumb/3/35/Information_icon.svg/21px-Information_icon.svg.png 1.5x, //upload.wikimedia.org/wikipedia/en/thumb/3/35/Information_icon.svg/28px-Information_icon.svg.png 2x\" width=\"14\"/></a></span></div><div style=\"font-size:90%\"><a href=\"/wiki/Mycology\" title=\"Mycology\">Mycological characteristics</a></div></th></tr><tr><th class=\"infobox-label\" scope=\"row\" style=\"white-space: nowrap\"><span typeof=\"mw:File\"><span><img alt=\"\" class=\"mw-file-element\" data-file-height=\"300\" data-file-width=\"302\" decoding=\"async\" height=\"32\" src=\"//upload.wikimedia.org/wikipedia/commons/thumb/1/11/Gills_icon.png/32px-Gills_icon.png\" srcset=\"//upload.wikimedia.org/wikipedia/commons/thumb/1/11/Gills_icon.png/48px-Gills_icon.png 1.5x, //upload.wikimedia.org/wikipedia/commons/thumb/1/11/Gills_icon.png/64px-Gills_icon.png 2x\" width=\"32\"/></span></span></th><td class=\"infobox-data\" style=\"text-align: right\"><b><a href=\"/wiki/Lamella_(mycology)\" title=\"Lamella (mycology)\">Gills</a></b> on <a href=\"/wiki/Hymenium\" title=\"Hymenium\">hymenium</a></td></tr><tr><th class=\"infobox-label\" scope=\"row\" style=\"white-space: nowrap\"><span typeof=\"mw:File\"><span><img alt=\"\" class=\"mw-file-element\" data-file-height=\"713\" data-file-width=\"713\" decoding=\"async\" height=\"32\" src=\"//upload.wikimedia.org/wikipedia/commons/thumb/a/a1/Offset_cap_icon.svg/32px-Offset_cap_icon.svg.png\" srcset=\"//upload.wikimedia.org/wikipedia/commons/thumb/a/a1/Offset_cap_icon.svg/48px-Offset_cap_icon.svg.png 1.5x, //upload.wikimedia.org/wikipedia/commons/thumb/a/a1/Offset_cap_icon.svg/64px-Offset_cap_icon.svg.png 2x\" width=\"32\"/></span></span>\n",
      "<span typeof=\"mw:File\"><span><img alt=\"\" class=\"mw-file-element\" data-file-height=\"342\" data-file-width=\"342\" decoding=\"async\" height=\"32\" src=\"//upload.wikimedia.org/wikipedia/commons/thumb/a/a1/Convex_cap_icon.svg/32px-Convex_cap_icon.svg.png\" srcset=\"//upload.wikimedia.org/wikipedia/commons/thumb/a/a1/Convex_cap_icon.svg/48px-Convex_cap_icon.svg.png 1.5x, //upload.wikimedia.org/wikipedia/commons/thumb/a/a1/Convex_cap_icon.svg/64px-Convex_cap_icon.svg.png 2x\" width=\"32\"/></span></span></th><td class=\"infobox-data\" style=\"text-align: right\"><a href=\"/wiki/Pileus_(mycology)\" title=\"Pileus (mycology)\">Cap</a> is <b>offset</b>\n",
      "   or <b>convex</b></td></tr><tr><th class=\"infobox-label\" scope=\"row\" style=\"white-space: nowrap\"><span typeof=\"mw:File\"><span><img alt=\"\" class=\"mw-file-element\" data-file-height=\"300\" data-file-width=\"300\" decoding=\"async\" height=\"32\" src=\"//upload.wikimedia.org/wikipedia/commons/thumb/e/e1/Decurrent_gills_icon2.svg/32px-Decurrent_gills_icon2.svg.png\" srcset=\"//upload.wikimedia.org/wikipedia/commons/thumb/e/e1/Decurrent_gills_icon2.svg/48px-Decurrent_gills_icon2.svg.png 1.5x, //upload.wikimedia.org/wikipedia/commons/thumb/e/e1/Decurrent_gills_icon2.svg/64px-Decurrent_gills_icon2.svg.png 2x\" width=\"32\"/></span></span></th><td class=\"infobox-data\" style=\"text-align: right\"><a href=\"/wiki/Hymenium\" title=\"Hymenium\">Hymenium</a> is <b>decurrent</b></td></tr><tr><th class=\"infobox-label\" scope=\"row\" style=\"white-space: nowrap\"><span typeof=\"mw:File\"><span><img alt=\"\" class=\"mw-file-element\" data-file-height=\"300\" data-file-width=\"300\" decoding=\"async\" height=\"32\" src=\"//upload.wikimedia.org/wikipedia/commons/thumb/d/d3/Bare_stipe_icon.svg/32px-Bare_stipe_icon.svg.png\" srcset=\"//upload.wikimedia.org/wikipedia/commons/thumb/d/d3/Bare_stipe_icon.svg/48px-Bare_stipe_icon.svg.png 1.5x, //upload.wikimedia.org/wikipedia/commons/thumb/d/d3/Bare_stipe_icon.svg/64px-Bare_stipe_icon.svg.png 2x\" width=\"32\"/></span></span></th><td class=\"infobox-data\" style=\"text-align: right\"><a href=\"/wiki/Stipe_(mycology)\" title=\"Stipe (mycology)\">Stipe</a> is <b>bare</b></td></tr><tr><th class=\"infobox-label\" scope=\"row\" style=\"white-space: nowrap\"><div style=\"background-color: #FFFFFF; float:left;\"><span typeof=\"mw:File\"><span><img alt=\"\" class=\"mw-file-element\" data-file-height=\"202\" data-file-width=\"202\" decoding=\"async\" height=\"32\" src=\"//upload.wikimedia.org/wikipedia/commons/thumb/7/7d/Transparent_spore_print_icon.svg/32px-Transparent_spore_print_icon.svg.png\" srcset=\"//upload.wikimedia.org/wikipedia/commons/thumb/7/7d/Transparent_spore_print_icon.svg/48px-Transparent_spore_print_icon.svg.png 1.5x, //upload.wikimedia.org/wikipedia/commons/thumb/7/7d/Transparent_spore_print_icon.svg/64px-Transparent_spore_print_icon.svg.png 2x\" width=\"32\"/></span></span></div></th><td class=\"infobox-data\" style=\"text-align: right\"><a href=\"/wiki/Spore_print\" title=\"Spore print\">Spore print</a> is <b>white</b></td></tr><tr><th class=\"infobox-label\" scope=\"row\" style=\"white-space: nowrap\"><span typeof=\"mw:File\"><span><img alt=\"\" class=\"mw-file-element\" data-file-height=\"200\" data-file-width=\"270\" decoding=\"async\" height=\"24\" src=\"//upload.wikimedia.org/wikipedia/commons/thumb/2/20/Saprotrophic_fungus.svg/32px-Saprotrophic_fungus.svg.png\" srcset=\"//upload.wikimedia.org/wikipedia/commons/thumb/2/20/Saprotrophic_fungus.svg/48px-Saprotrophic_fungus.svg.png 1.5x, //upload.wikimedia.org/wikipedia/commons/thumb/2/20/Saprotrophic_fungus.svg/64px-Saprotrophic_fungus.svg.png 2x\" width=\"32\"/></span></span></th><td class=\"infobox-data\" style=\"text-align: right\">Ecology is <b><a class=\"mw-redirect\" href=\"/wiki/Saprotrophic\" title=\"Saprotrophic\">saprotrophic</a></b></td></tr><tr><th class=\"infobox-label\" scope=\"row\" style=\"white-space: nowrap\"><span typeof=\"mw:File\"><span><img alt=\"\" class=\"mw-file-element\" data-file-height=\"250\" data-file-width=\"250\" decoding=\"async\" height=\"32\" src=\"//upload.wikimedia.org/wikipedia/commons/thumb/b/b3/Mycomorphbox_Choice.png/32px-Mycomorphbox_Choice.png\" srcset=\"//upload.wikimedia.org/wikipedia/commons/thumb/b/b3/Mycomorphbox_Choice.png/48px-Mycomorphbox_Choice.png 1.5x, //upload.wikimedia.org/wikipedia/commons/thumb/b/b3/Mycomorphbox_Choice.png/64px-Mycomorphbox_Choice.png 2x\" width=\"32\"/></span></span></th><td class=\"infobox-data\" style=\"text-align: right\">Edibility is <a href=\"/wiki/Edible_mushroom\" title=\"Edible mushroom\"><b>choice</b></a></td></tr></tbody></table>\n"
     ]
    }
   ],
   "source": [
    "url ='https://en.wikipedia.org/wiki/Pleurotus_pulmonarius'\n",
    "response= requests.get(url)#respond with the HTML content of the page.\n",
    "soup =BeautifulSoup(response.content, \"html.parser\") #parse the HTML content of the page (raw data--> structured format)\n",
    "table = soup.find(lambda tag: tag.name == 'table' and tag.get('class') == ['infobox'])"
   ]
  },
  {
   "cell_type": "code",
   "execution_count": 4,
   "metadata": {},
   "outputs": [],
   "source": [
    "rows = table.find_all('tr')\n",
    "result=[]\n",
    "for row in rows:\n",
    "    # Find all 'b' and 'i' tags within the row and join their text together\n",
    "    text = ' or '.join([tag.text for tag in row.find_all(['b', 'i'])])\n",
    "    result.append(text)"
   ]
  },
  {
   "cell_type": "code",
   "execution_count": 5,
   "metadata": {},
   "outputs": [],
   "source": [
    "df = pd.DataFrame(columns=['SpeciesName', 'HymeniumType','CapeShape','WhichGills','StipeCharacter','SporePrintColor','EcologicalType','HowEdible'])"
   ]
  },
  {
   "cell_type": "code",
   "execution_count": 6,
   "metadata": {},
   "outputs": [],
   "source": [
    "df.loc[len(df)]=result\n",
    "df.to_csv('Pleurotus pulmonarius(Wiki).csv', index=False)"
   ]
  }
 ],
 "metadata": {
  "kernelspec": {
   "display_name": "Python (my_virtual_env)",
   "language": "python",
   "name": "my_virtual_env"
  },
  "language_info": {
   "codemirror_mode": {
    "name": "ipython",
    "version": 3
   },
   "file_extension": ".py",
   "mimetype": "text/x-python",
   "name": "python",
   "nbconvert_exporter": "python",
   "pygments_lexer": "ipython3",
   "version": "3.10.12"
  }
 },
 "nbformat": 4,
 "nbformat_minor": 2
}
