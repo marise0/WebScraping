{
 "cells": [
  {
   "cell_type": "code",
   "execution_count": 11,
   "metadata": {},
   "outputs": [],
   "source": [
    "import requests\n",
    "import pandas as pd\n",
    "from bs4 import BeautifulSoup"
   ]
  },
  {
   "cell_type": "code",
   "execution_count": 12,
   "metadata": {},
   "outputs": [],
   "source": [
    "DATA_DIR = \"/mnt/c/Users/Admin/OneDrive - Lebanese American University/Documents/internship/WebScraping/data/\""
   ]
  },
  {
   "cell_type": "code",
   "execution_count": 13,
   "metadata": {},
   "outputs": [],
   "source": [
    "url ='https://en.wikipedia.org/wiki/Pleurotus_pulmonarius'\n",
    "response= requests.get(url)#respond with the HTML content of the page.\n",
    "soup =BeautifulSoup(response.content, \"html.parser\") #parse the HTML content of the page (raw data--> structured format)\n",
    "table = soup.find(lambda tag: tag.name == 'table' and tag.get('class') == ['infobox'])"
   ]
  },
  {
   "cell_type": "code",
   "execution_count": 14,
   "metadata": {},
   "outputs": [],
   "source": [
    "rows = table.find_all('tr')\n",
    "result=[]\n",
    "for row in rows:\n",
    "    # Find all 'b' and 'i' tags within the row and join their text together\n",
    "    text = ' or '.join([tag.text for tag in row.find_all(['b', 'i'])])\n",
    "    result.append(text)"
   ]
  },
  {
   "cell_type": "code",
   "execution_count": 15,
   "metadata": {},
   "outputs": [],
   "source": [
    "df = pd.DataFrame(columns=['SpeciesName', 'HymeniumType','CapeShape','WhichGills','StipeCharacter','SporePrintColor','EcologicalType','HowEdible'])"
   ]
  },
  {
   "cell_type": "code",
   "execution_count": 16,
   "metadata": {},
   "outputs": [],
   "source": [
    "df.loc[len(df)]=result\n",
    "df.to_csv(DATA_DIR +'Pleurotus pulmonarius(Wiki).csv', index=False)"
   ]
  }
 ],
 "metadata": {
  "kernelspec": {
   "display_name": "Python (my_virtual_env)",
   "language": "python",
   "name": "my_virtual_env"
  },
  "language_info": {
   "codemirror_mode": {
    "name": "ipython",
    "version": 3
   },
   "file_extension": ".py",
   "mimetype": "text/x-python",
   "name": "python",
   "nbconvert_exporter": "python",
   "pygments_lexer": "ipython3",
   "version": "3.10.12"
  }
 },
 "nbformat": 4,
 "nbformat_minor": 2
}
