{
 "cells": [
  {
   "cell_type": "code",
   "execution_count": 1,
   "metadata": {},
   "outputs": [],
   "source": [
    "import requests\n",
    "import pandas as pd\n",
    "from bs4 import BeautifulSoup"
   ]
  },
  {
   "cell_type": "code",
   "execution_count": 2,
   "metadata": {},
   "outputs": [],
   "source": [
    "DATA_DIR = \"/mnt/c/Users/Admin/OneDrive - Lebanese American University/Documents/internship/WebScraping/data/\"  #specifying the directory for the future csv file"
   ]
  },
  {
   "cell_type": "code",
   "execution_count": 3,
   "metadata": {},
   "outputs": [],
   "source": [
    "url ='https://en.wikipedia.org/wiki/Pleurotus_pulmonarius'\n",
    "response= requests.get(url) #respond with the HTML content of the page.\n",
    "soup =BeautifulSoup(response.content, \"html.parser\") #parse the HTML content of the page (raw data--> structured format)\n",
    "table = soup.find(lambda tag: tag.name == 'table' and tag.get('class') == ['infobox']) #soup.find('table', {'class': 'infobox'}) will not work because it will return the upper table: infobox biota"
   ]
  },
  {
   "cell_type": "code",
   "execution_count": 4,
   "metadata": {},
   "outputs": [],
   "source": [
    "rows = table.find_all('tr') #Every desired characteristic is situated between a <tr>...</tr> tag.\n",
    "result=[] #this list will include all the characteristics.\n",
    "for row in rows:\n",
    "    #Inside each tr tag the desired text to be extracted is included either in a b tag or an i tag\n",
    "    # Find all 'b' and 'i' tags within the row and join their text together\n",
    "    text = ' or '.join([tag.text for tag in row.find_all(['b', 'i'])])\n",
    "    result.append(text) #every text appended correspond to one characteristic"
   ]
  },
  {
   "cell_type": "code",
   "execution_count": 5,
   "metadata": {},
   "outputs": [],
   "source": [
    "df = pd.DataFrame(columns=['SpeciesName', 'HymeniumType','CapeShape','WhichGills','StipeCharacter','SporePrintColor','EcologicalType','HowEdible']) #creating the data frame"
   ]
  },
  {
   "cell_type": "code",
   "execution_count": 6,
   "metadata": {},
   "outputs": [],
   "source": [
    "df.loc[len(df)]=result #adding a new row to the empty data frame\n",
    "df.to_csv(DATA_DIR +'Pleurotus pulmonarius(Wiki).csv', index=False) #save the DataFrame df to a CSV file named 'Pleurotus pulmonarius(Wiki).csv' in the directory specified by DATA_DIR without including the index."
   ]
  }
 ],
 "metadata": {
  "kernelspec": {
   "display_name": "Python (my_virtual_env)",
   "language": "python",
   "name": "my_virtual_env"
  },
  "language_info": {
   "codemirror_mode": {
    "name": "ipython",
    "version": 3
   },
   "file_extension": ".py",
   "mimetype": "text/x-python",
   "name": "python",
   "nbconvert_exporter": "python",
   "pygments_lexer": "ipython3",
   "version": "3.10.12"
  }
 },
 "nbformat": 4,
 "nbformat_minor": 2
}
